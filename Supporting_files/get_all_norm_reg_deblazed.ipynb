{
 "cells": [
  {
   "cell_type": "code",
   "execution_count": null,
   "metadata": {},
   "outputs": [],
   "source": [
    "# This script calls bstar_deblaze.ipynb to get the normalized, deblazed spectrum for each star. \n",
    "# NOTE: bstar_deblaze currently calcalates but DOES NOT output the registered wavelength scale. \n",
    "#       you must first add that to the return statement before running this script (and make sure to remove it again\n",
    "#       afterwords to use in smemp.ipynb, which does not require that output)"
   ]
  },
  {
   "cell_type": "code",
   "execution_count": null,
   "metadata": {},
   "outputs": [],
   "source": []
  },
  {
   "cell_type": "code",
   "execution_count": 1,
   "metadata": {},
   "outputs": [
    {
     "name": "stdout",
     "output_type": "stream",
     "text": [
      "importing Jupyter notebook from bstar_deblaze.ipynb\n"
     ]
    }
   ],
   "source": [
    "import import_ipynb \n",
    "import numpy as np\n",
    "import astropy.io.fits as pf\n",
    "from astropy.io import fits\n",
    "from bstar_deblaze import bstar_deblazed\n",
    "import os"
   ]
  },
  {
   "cell_type": "code",
   "execution_count": null,
   "metadata": {},
   "outputs": [],
   "source": [
    "path_to_dir = '/mnt_blpd0/datax/apf'\n",
    "filelist = sorted(os.listdir(path_to_dir))\n",
    "filelist.remove('apf_log.txt')\n",
    "filelist.remove('apf_log_current.txt')\n",
    "filelist.remove('apf_log_current_new.txt')\n",
    "filelist.remove('apf_log_current_25mar2019.txt')\n",
    "#filelist = ['ramq.233.fits']\n",
    "\n",
    "bad_files = []\n",
    "for file_name in filelist: \n",
    "    if not(file_name.startswith('ucb')):        \n",
    "        try:\n",
    "            # deal with directories\n",
    "            if file_name.startswith('HIP') or os.path.isdir('./'+ file_name): # is a directory of spectra\n",
    "                path = ('./' + file_name)\n",
    "                spectra = sorted(os.listdir(path))\n",
    "                image = np.zeros((79, 4608))\n",
    "                for spectrum in spectra:\n",
    "                    file = pf.open(path + '/' + spectrum)\n",
    "                    data_part = file[0].data\n",
    "                    if (str(np.shape(data_part)) != '(79, 4608)'):\n",
    "                        print(str(np.shape(data_part)) + ' is an incompatible data shape.')\n",
    "                        print('Cannot perform shift-and-match process.')\n",
    "                        sys.exit()\n",
    "                    image += data_part\n",
    "            else: # just one spectrum\n",
    "                file = pf.open(path_to_dir + '/' + file_name)\n",
    "                old_header = file[0].header\n",
    "                image = file[0].data\n",
    "\n",
    "            orders  = np.linspace(30,51,22).astype(int)\n",
    "            norm_reg_deblazed = np.zeros([len(orders), 4600])\n",
    "            wl_shifted = np.zeros([len(orders), 4600])\n",
    "            for order in orders:\n",
    "                norm_reg_deb, shifted_wl_scale = bstar_deblazed(file, order)\n",
    "                norm_reg_deblazed[order-30] = norm_reg_deb\n",
    "                wl_shifted[order-30] = shifted_wl_scale\n",
    "\n",
    "            new_header = old_header\n",
    "            new_header.set('NRD', 'YES','Normalized, registered, deblazed')\n",
    "            data_hdu = fits.PrimaryHDU(norm_reg_deblazed, new_header)\n",
    "            wl_hdu = fits.ImageHDU(wl_shifted)\n",
    "            hdu = fits.HDUList([data_hdu, wl_hdu])\n",
    "            hdu.writeto('APF_spectra/Norm_Reg_Deb/' + file_name)\n",
    "            print('Done: ' + file_name)\n",
    "        except:\n",
    "            print('Error occured processing file: ' + file_name)\n",
    "            bad_files = bad_files + [file_name]\n",
    "        \n",
    "    # could either shift all the spectra by amount that scale is shifted and hstack all the spectra, \n",
    "    # or hstack all the shifted scales\n"
   ]
  },
  {
   "cell_type": "code",
   "execution_count": null,
   "metadata": {},
   "outputs": [],
   "source": [
    "#TESTING BELOW HERE"
   ]
  },
  {
   "cell_type": "code",
   "execution_count": 49,
   "metadata": {},
   "outputs": [
    {
     "name": "stdout",
     "output_type": "stream",
     "text": [
      "Filename: APF_spectra/Norm_Reg_Deb/ramq.233.fits\n",
      "No.    Name      Ver    Type      Cards   Dimensions   Format\n",
      "  0  PRIMARY       1 PrimaryHDU     229   (4600, 22)   float64   \n",
      "  1                1 ImageHDU         7   (4600, 22)   float64   \n"
     ]
    },
    {
     "data": {
      "text/plain": [
       "'YES'"
      ]
     },
     "execution_count": 49,
     "metadata": {},
     "output_type": "execute_result"
    }
   ],
   "source": [
    "test_fits = pf.open('APF_spectra/Norm_Reg_Deb/ramq.233.fits')\n",
    "test_fits.info()\n",
    "test_fits[0].header['NRD']\n"
   ]
  },
  {
   "cell_type": "code",
   "execution_count": null,
   "metadata": {},
   "outputs": [],
   "source": []
  }
 ],
 "metadata": {
  "kernelspec": {
   "display_name": "Python 3",
   "language": "python",
   "name": "python3"
  },
  "language_info": {
   "codemirror_mode": {
    "name": "ipython",
    "version": 3
   },
   "file_extension": ".py",
   "mimetype": "text/x-python",
   "name": "python",
   "nbconvert_exporter": "python",
   "pygments_lexer": "ipython3",
   "version": "3.7.6"
  }
 },
 "nbformat": 4,
 "nbformat_minor": 4
}
