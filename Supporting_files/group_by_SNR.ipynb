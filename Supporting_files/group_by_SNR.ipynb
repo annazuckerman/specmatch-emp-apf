{
 "cells": [
  {
   "cell_type": "code",
   "execution_count": null,
   "metadata": {},
   "outputs": [],
   "source": [
    "# group_by_SNR.ipynb\n",
    "# Many stars that have mulitple APF spectra have some spectra from different nights of observation. \n",
    "# Calculates the SNR for each group of spectra from one night of observing (calc_SNR combines all observations of one \n",
    "# star and returns an SNR for the star instead), then finds for each star which group of observations together has the \n",
    "# highest SNR. Will use only highest SNR group in run of Specmatch-Emp for each star.\n",
    "# Last modified 8/12/20 by Anna Zuckerman \n"
   ]
  },
  {
   "cell_type": "code",
   "execution_count": 44,
   "metadata": {},
   "outputs": [],
   "source": [
    "import os\n",
    "import pandas as pd\n",
    "import numpy as np\n",
    "import astropy.io.fits\n",
    "import shutil"
   ]
  },
  {
   "cell_type": "code",
   "execution_count": 40,
   "metadata": {},
   "outputs": [],
   "source": [
    "def get_SNR(path_name, filenames): # Modified from get_SNR in calc_SNR\n",
    "    order_data = np.zeros([4608,1])\n",
    "    for spect_file in filenames:\n",
    "        hdul = astropy.io.fits.open(path_name + '/' + spect_file) \n",
    "        order_data = np.add(order_data,(hdul[0].data)[45])\n",
    "    SNR = np.sqrt(np.median(order_data))\n",
    "    return SNR"
   ]
  },
  {
   "cell_type": "code",
   "execution_count": 46,
   "metadata": {},
   "outputs": [],
   "source": [
    "# for stars with mulitple spectra, get the set of observations with the highest SNR\n",
    "big_path = './APF_spectra/apf_spectra'\n",
    "pathlist = [path for path in sorted(os.listdir(big_path)) if os.path.isdir(big_path + '/' + path)]\n",
    "for star_dir in pathlist:\n",
    "    spectlist = os.listdir(big_path + '/' + star_dir)\n",
    "    obslist = [filename.split('.')[0] for filename in spectlist]\n",
    "    unique_obs = list(dict.fromkeys(obslist)) #list of all observations of that star\n",
    "    highest_SNR = 0\n",
    "    highest_SNR_obs = ''\n",
    "    for obs in unique_obs:\n",
    "        obs_files = [file for file in spectlist if file.split('.')[0] == obs]\n",
    "        SNR_obs = get_SNR(big_path + '/' + star_dir, obs_files)\n",
    "        if SNR_obs > highest_SNR:\n",
    "            highest_SNR_obs = obs\n",
    "    new_dir_name = 'APF_spectra/apf_spectra_highest_SNR/' + star_dir\n",
    "    highest_SNR_obs_files = [file for file in spectlist if file.split('.')[0] == highest_SNR_obs]\n",
    "    os.mkdir(new_dir_name)\n",
    "    for file in highest_SNR_obs_files:\n",
    "        shutil.copyfile(big_path + '/' + star_dir + '/' + file, new_dir_name + '/' + file)\n",
    "\n",
    "    "
   ]
  },
  {
   "cell_type": "code",
   "execution_count": 50,
   "metadata": {},
   "outputs": [],
   "source": [
    "# for stars with only one spectrum, copy that spectrum directly\n",
    "pathlist_notdir = [path for path in sorted(os.listdir(big_path)) if not(os.path.isdir(big_path + '/' + path))]\n",
    "for file in pathlist_notdir:\n",
    "    shutil.copyfile(big_path + '/' + file, './APF_spectra/apf_spectra_highest_SNR' + '/' + file)\n"
   ]
  },
  {
   "cell_type": "code",
   "execution_count": null,
   "metadata": {},
   "outputs": [],
   "source": []
  }
 ],
 "metadata": {
  "kernelspec": {
   "display_name": "Python 3",
   "language": "python",
   "name": "python3"
  },
  "language_info": {
   "codemirror_mode": {
    "name": "ipython",
    "version": 3
   },
   "file_extension": ".py",
   "mimetype": "text/x-python",
   "name": "python",
   "nbconvert_exporter": "python",
   "pygments_lexer": "ipython3",
   "version": "3.7.6"
  }
 },
 "nbformat": 4,
 "nbformat_minor": 4
}
