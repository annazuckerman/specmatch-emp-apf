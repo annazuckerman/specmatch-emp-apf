{
 "cells": [
  {
   "cell_type": "code",
   "execution_count": 9,
   "metadata": {},
   "outputs": [],
   "source": [
    "# convert the one big csv file of residuals to a fits file for each\n",
    "\n",
    "import numpy as np\n",
    "import pandas as pd\n",
    "import astropy.io.fits as pf\n",
    "from astropy.io import fits\n",
    "\n",
    "wl_regions = [[5000,5100],[5101,5200],[5201,5300],[5301,5400],[5401,5500],[5501,5600],[5601,5700],[5701,5800],[5801,5900]]\n",
    "region_lens = [5835, 5722, 5612, 5508, 5406, 5309, 5216, 5124, 5037]\n",
    "wl_all_regions = np.zeros([0,0])\n",
    "for n in range(9): \n",
    "    wl = np.linspace(wl_regions[n][0], wl_regions[n][1], region_lens[n])\n",
    "    wl_all_regions = np.append(wl_all_regions, wl)\n",
    "\n",
    "residuals = pd.read_csv('residual_results.csv') # NEED TO CHANGE THIS TO residual_results_newdeblaze, right????\n",
    "for n in range(len(residuals.iloc[:,0])):\n",
    "    spectrum = residuals.iloc[:,1:].values[n,:]\n",
    "    name = residuals.iloc[n,0]\n",
    "    data_hdu = fits.PrimaryHDU(spectrum)\n",
    "    wl_hdu = fits.ImageHDU(wl_all_regions)\n",
    "    hdu = fits.HDUList([data_hdu, wl_hdu])\n",
    "    hdu.writeto('./APF_spectra/Residuals/' + name)"
   ]
  },
  {
   "cell_type": "code",
   "execution_count": null,
   "metadata": {},
   "outputs": [],
   "source": []
  },
  {
   "cell_type": "code",
   "execution_count": null,
   "metadata": {},
   "outputs": [],
   "source": []
  }
 ],
 "metadata": {
  "kernelspec": {
   "display_name": "Python 3",
   "language": "python",
   "name": "python3"
  },
  "language_info": {
   "codemirror_mode": {
    "name": "ipython",
    "version": 3
   },
   "file_extension": ".py",
   "mimetype": "text/x-python",
   "name": "python",
   "nbconvert_exporter": "python",
   "pygments_lexer": "ipython3",
   "version": "3.7.6"
  }
 },
 "nbformat": 4,
 "nbformat_minor": 4
}
