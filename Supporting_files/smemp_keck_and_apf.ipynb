{
 "cells": [
  {
   "cell_type": "code",
   "execution_count": null,
   "metadata": {},
   "outputs": [],
   "source": [
    "# The current methods for reading in and operating on a spectrum used by Specmatch-emp assume the spectrum is in the format \n",
    "# produced by Keck/HIRES. Although there exists a method to read in APF spectra, it does not include certain pre-processing \n",
    "# such as combing spectra of the same star and deblazing) that the user may want to perform before Specmatch-emp is called. \n",
    "# This script allows the user to run Specmatch on both Keck and APF spectra.\n",
    "\n",
    "# THIS SCRIPT HAS NOT YET BEEN FULLY TESTED. IT RUNS WITHOUT ERROR BUT IS NOT GUARANTEED TO PRODUCE THE DESITED RESULT.\n",
    "# UPDATE: bugs currently in this script. warning in deblaze for APF spectrum that didn't get warning in smemp_multifile,\n",
    "#         and errors out in match() when running Keck spectra even seems like same code as in tutorial..."
   ]
  },
  {
   "cell_type": "code",
   "execution_count": 2,
   "metadata": {},
   "outputs": [
    {
     "name": "stdout",
     "output_type": "stream",
     "text": [
      "importing Jupyter notebook from rescale.ipynb\n",
      "importing Jupyter notebook from bstar_deblaze.ipynb\n"
     ]
    }
   ],
   "source": [
    "import numpy as np\n",
    "import import_ipynb \n",
    "import pandas as pd \n",
    "import specmatchemp.library\n",
    "import specmatchemp.plots as smplot\n",
    "from specmatchemp.spectrum import Spectrum\n",
    "from specmatchemp import spectrum\n",
    "from specmatchemp.specmatch import SpecMatch\n",
    "import astropy.io.fits as pf\n",
    "from rescale import get_rescaled_wave_soln\n",
    "from rescale import resample\n",
    "from optparse import OptionParser\n",
    "from bstar_deblaze import bstar_deblazed \n",
    "from os import listdir\n",
    "from os.path import isfile, join"
   ]
  },
  {
   "cell_type": "code",
   "execution_count": 3,
   "metadata": {},
   "outputs": [],
   "source": [
    "#Input: path to spectra/um corresponding to (ideally one night of observations of) a single star. Single fits file or directory.\n",
    "#       If mulitple nights, may have to register each set idividually. \n",
    "#Output: Spectrum object for input star (see Specmatch-emp documentation)\n",
    "#NOTE: There is a method called read_apf_fits that is already part of Specmatch-emp. However,it reads directly from a \n",
    "#      a fits file into a Spectrum object without the pre-processing done by this method.\n",
    "def get_apf_spectrum(path_name):\n",
    "        # get list of fits files\n",
    "        try:\n",
    "            filenames = [f for f in listdir(path_name) if isfile(join(path_name, f))]\n",
    "        except NotADirectoryError: # path to one file\n",
    "            path_split = path_name.split('/')\n",
    "            path_split[:-1] = ['/'.join(path_split[:-1])]\n",
    "            filenames = []\n",
    "            filename = path_split[-1]\n",
    "            filenames.append(filename)\n",
    "            path_name = path_split[0]\n",
    "        \n",
    "        # Read in data from wavelength solution\n",
    "        wave_soln = (pf.open('apf_wav.fits'))[0].data\n",
    "\n",
    "        # Sum all of the data files for a star\n",
    "        data = np.zeros((79, 4608))\n",
    "        ve = False\n",
    "        for filename in filenames:\n",
    "            file = pf.open(path_name + '/' + filename)\n",
    "            data_part = file[0].data\n",
    "            if (str(np.shape(data_part)) != '(79, 4608)'):\n",
    "                print(str(np.shape(data_part)) + ' is an incompatible data shape.')\n",
    "                print('Cannot perform shift-and-match process.')\n",
    "                sys.exit()\n",
    "            try:\n",
    "                data += data_part\n",
    "            except ValueError:\n",
    "                ve = True\n",
    "        if (ve):\n",
    "            print(\"Value Error occurred during spectra summation.\")\n",
    "\n",
    "        header = file[0].header # assumes all names are the same over all files\n",
    "        name = header['TOBJECT']\n",
    "\n",
    "        #Deblaze the orders: 31 to 52 (range of focus in the SME library)\n",
    "        ve = False\n",
    "        for order_inc in range(22):\n",
    "            try: \n",
    "                data[30 + order_inc, :4600] = bstar_deblazed(file,30 + order_inc)\n",
    "            except ValueError: ve = True\n",
    "        if (ve): print(\"Value Error occurred during blaze correction.\")\n",
    "            \n",
    "        # option to remove cosmic rays. Use for calibration purposes only, as may remove real signals of interest  \n",
    "        remove_cosmic_rays = False\n",
    "        def remove_cosmic_rays(spect): # must input a normalized, deblazed spectrum\n",
    "            new_spect = spect \n",
    "            for i in range(len(spect)):\n",
    "                old_value = spect[i]\n",
    "                if old_value > 1.4:\n",
    "                    new_value = np.median(spect[i-3:i+3])\n",
    "                    new_spect[i] = new_value # Other way would be to make this spect[i] not new_spect[i], then return spect\n",
    "                    print('replaced value ' + str(old_value) + ' with '+ str(new_value) +' at ' + str(i))\n",
    "            return new_spect\n",
    "        if remove_cosmic_rays == True:\n",
    "            data = remove_cosmic_rays(data)  \n",
    "            \n",
    "        # Get a wavelength solution rescaled onto the scale of the library\n",
    "        wave_soln_ref = get_rescaled_wave_soln()\n",
    "\n",
    "        # Resample the spectrum onto the new wavelength scale\n",
    "        data_new = resample(wave_soln_ref, wave_soln, data)\n",
    "\n",
    "        # Create Spectrum object\n",
    "        apf_spectrum = Spectrum(np.asarray(wave_soln_ref), np.asarray(data_new))\n",
    "        apf_spectrum.name = name\n",
    "        \n",
    "        return apf_spectrum"
   ]
  },
  {
   "cell_type": "code",
   "execution_count": 4,
   "metadata": {},
   "outputs": [],
   "source": [
    "#Input: path to spectrum corresponding to a single star. Single fits file.\n",
    "#Output: Spectrum object for input star (see Specmatch-emp documentation)\n",
    "def get_keck_spectrum(pathname):\n",
    "    hires_spectrum = spectrum.read_hires_fits(pathname).cut(5130,5210)\n",
    "    return hires_spectrum"
   ]
  },
  {
   "cell_type": "code",
   "execution_count": 6,
   "metadata": {},
   "outputs": [
    {
     "name": "stdin",
     "output_type": "stream",
     "text": [
      "Enter path:  ./specmatch-emp-mod/samples/rj130.2075.fits\n",
      "Enter 0 for Keck files, 1 for APF files :  0\n",
      "Is the spectrum in the library? (0 -> no, 1 -> yes):  1\n"
     ]
    },
    {
     "name": "stdout",
     "output_type": "stream",
     "text": [
      "Reading library from /home/azuckerman/.specmatchemp/library.h5\n"
     ]
    },
    {
     "name": "stdin",
     "output_type": "stream",
     "text": [
      "Enter star name as listed in Specmatch library:  HD190406\n"
     ]
    },
    {
     "name": "stdout",
     "output_type": "stream",
     "text": [
      "Shifting spectrum\n",
      "Shifting spectrum rj130.2075\n",
      "Attempting shift to spectrum NSO, median cross-correlation peak = 1.04\n",
      "Attempting shift to spectrum 123239, median cross-correlation peak = 1.09\n",
      "Attempting shift to spectrum 222368, median cross-correlation peak = 0.70\n",
      "Attempting shift to spectrum 216899, median cross-correlation peak = 3.62\n",
      "Best reference for shifting: 216899\n",
      "Shifting entire spectrum\n",
      "Matching spectrum\n",
      "Matching region (5000, 5100)\n"
     ]
    },
    {
     "ename": "ValueError",
     "evalue": "operands could not be broadcast together with shapes (0,) (5835,) ",
     "output_type": "error",
     "traceback": [
      "\u001b[0;31m---------------------------------------------------------------------------\u001b[0m",
      "\u001b[0;31mValueError\u001b[0m                                Traceback (most recent call last)",
      "\u001b[0;32m<ipython-input-6-26f2be946114>\u001b[0m in \u001b[0;36m<module>\u001b[0;34m\u001b[0m\n\u001b[1;32m     26\u001b[0m \u001b[0;34m\u001b[0m\u001b[0m\n\u001b[1;32m     27\u001b[0m \u001b[0;31m# Perform match\u001b[0m\u001b[0;34m\u001b[0m\u001b[0;34m\u001b[0m\u001b[0;34m\u001b[0m\u001b[0m\n\u001b[0;32m---> 28\u001b[0;31m \u001b[0msm\u001b[0m\u001b[0;34m.\u001b[0m\u001b[0mmatch\u001b[0m\u001b[0;34m(\u001b[0m\u001b[0;34m)\u001b[0m\u001b[0;34m\u001b[0m\u001b[0;34m\u001b[0m\u001b[0m\n\u001b[0m\u001b[1;32m     29\u001b[0m \u001b[0;34m\u001b[0m\u001b[0m\n\u001b[1;32m     30\u001b[0m \u001b[0;31m# Perform lincomb\u001b[0m\u001b[0;34m\u001b[0m\u001b[0;34m\u001b[0m\u001b[0;34m\u001b[0m\u001b[0m\n",
      "\u001b[0;32m/opt/conda/lib/python3.7/site-packages/SpecMatch_Emp-0.3-py3.7.egg/specmatchemp/specmatch.py\u001b[0m in \u001b[0;36mmatch\u001b[0;34m(self, wavlim, wavstep, ignore)\u001b[0m\n\u001b[1;32m    241\u001b[0m \u001b[0;34m\u001b[0m\u001b[0m\n\u001b[1;32m    242\u001b[0m                 \u001b[0;31m# match\u001b[0m\u001b[0;34m\u001b[0m\u001b[0;34m\u001b[0m\u001b[0;34m\u001b[0m\u001b[0m\n\u001b[0;32m--> 243\u001b[0;31m                 \u001b[0mmt\u001b[0m \u001b[0;34m=\u001b[0m \u001b[0mmatch\u001b[0m\u001b[0;34m.\u001b[0m\u001b[0mMatch\u001b[0m\u001b[0;34m(\u001b[0m\u001b[0mspec_targ\u001b[0m\u001b[0;34m,\u001b[0m \u001b[0mspec_ref\u001b[0m\u001b[0;34m.\u001b[0m\u001b[0mcut\u001b[0m\u001b[0;34m(\u001b[0m\u001b[0;34m*\u001b[0m\u001b[0mreg\u001b[0m\u001b[0;34m)\u001b[0m\u001b[0;34m)\u001b[0m\u001b[0;34m\u001b[0m\u001b[0;34m\u001b[0m\u001b[0m\n\u001b[0m\u001b[1;32m    244\u001b[0m                 \u001b[0mmt\u001b[0m\u001b[0;34m.\u001b[0m\u001b[0mbest_fit\u001b[0m\u001b[0;34m(\u001b[0m\u001b[0;34m)\u001b[0m\u001b[0;34m\u001b[0m\u001b[0;34m\u001b[0m\u001b[0m\n\u001b[1;32m    245\u001b[0m \u001b[0;34m\u001b[0m\u001b[0m\n",
      "\u001b[0;32m/opt/conda/lib/python3.7/site-packages/SpecMatch_Emp-0.3-py3.7.egg/specmatchemp/match.py\u001b[0m in \u001b[0;36m__init__\u001b[0;34m(self, target, reference, mode, opt)\u001b[0m\n\u001b[1;32m     40\u001b[0m     \u001b[0;32mdef\u001b[0m \u001b[0m__init__\u001b[0m\u001b[0;34m(\u001b[0m\u001b[0mself\u001b[0m\u001b[0;34m,\u001b[0m \u001b[0mtarget\u001b[0m\u001b[0;34m,\u001b[0m \u001b[0mreference\u001b[0m\u001b[0;34m,\u001b[0m \u001b[0mmode\u001b[0m\u001b[0;34m=\u001b[0m\u001b[0;34m'default'\u001b[0m\u001b[0;34m,\u001b[0m \u001b[0mopt\u001b[0m\u001b[0;34m=\u001b[0m\u001b[0;34m'nelder'\u001b[0m\u001b[0;34m)\u001b[0m\u001b[0;34m:\u001b[0m\u001b[0;34m\u001b[0m\u001b[0;34m\u001b[0m\u001b[0m\n\u001b[1;32m     41\u001b[0m         \u001b[0;31m# Ensure target, reference are on common wavelength scale\u001b[0m\u001b[0;34m\u001b[0m\u001b[0;34m\u001b[0m\u001b[0;34m\u001b[0m\u001b[0m\n\u001b[0;32m---> 42\u001b[0;31m         \u001b[0;32mif\u001b[0m \u001b[0;32mnot\u001b[0m \u001b[0mnp\u001b[0m\u001b[0;34m.\u001b[0m\u001b[0mallclose\u001b[0m\u001b[0;34m(\u001b[0m\u001b[0mtarget\u001b[0m\u001b[0;34m.\u001b[0m\u001b[0mw\u001b[0m\u001b[0;34m,\u001b[0m \u001b[0mreference\u001b[0m\u001b[0;34m.\u001b[0m\u001b[0mw\u001b[0m\u001b[0;34m)\u001b[0m\u001b[0;34m:\u001b[0m\u001b[0;34m\u001b[0m\u001b[0;34m\u001b[0m\u001b[0m\n\u001b[0m\u001b[1;32m     43\u001b[0m             \u001b[0mprint\u001b[0m\u001b[0;34m(\u001b[0m\u001b[0;34m\"Target and reference are on different wavelength scales.\"\u001b[0m\u001b[0;34m)\u001b[0m\u001b[0;34m\u001b[0m\u001b[0;34m\u001b[0m\u001b[0m\n\u001b[1;32m     44\u001b[0m             \u001b[0;32mraise\u001b[0m \u001b[0mValueError\u001b[0m\u001b[0;34m\u001b[0m\u001b[0;34m\u001b[0m\u001b[0m\n",
      "\u001b[0;32m<__array_function__ internals>\u001b[0m in \u001b[0;36mallclose\u001b[0;34m(*args, **kwargs)\u001b[0m\n",
      "\u001b[0;32m/opt/conda/lib/python3.7/site-packages/numpy/core/numeric.py\u001b[0m in \u001b[0;36mallclose\u001b[0;34m(a, b, rtol, atol, equal_nan)\u001b[0m\n\u001b[1;32m   2157\u001b[0m \u001b[0;34m\u001b[0m\u001b[0m\n\u001b[1;32m   2158\u001b[0m     \"\"\"\n\u001b[0;32m-> 2159\u001b[0;31m     \u001b[0mres\u001b[0m \u001b[0;34m=\u001b[0m \u001b[0mall\u001b[0m\u001b[0;34m(\u001b[0m\u001b[0misclose\u001b[0m\u001b[0;34m(\u001b[0m\u001b[0ma\u001b[0m\u001b[0;34m,\u001b[0m \u001b[0mb\u001b[0m\u001b[0;34m,\u001b[0m \u001b[0mrtol\u001b[0m\u001b[0;34m=\u001b[0m\u001b[0mrtol\u001b[0m\u001b[0;34m,\u001b[0m \u001b[0matol\u001b[0m\u001b[0;34m=\u001b[0m\u001b[0matol\u001b[0m\u001b[0;34m,\u001b[0m \u001b[0mequal_nan\u001b[0m\u001b[0;34m=\u001b[0m\u001b[0mequal_nan\u001b[0m\u001b[0;34m)\u001b[0m\u001b[0;34m)\u001b[0m\u001b[0;34m\u001b[0m\u001b[0;34m\u001b[0m\u001b[0m\n\u001b[0m\u001b[1;32m   2160\u001b[0m     \u001b[0;32mreturn\u001b[0m \u001b[0mbool\u001b[0m\u001b[0;34m(\u001b[0m\u001b[0mres\u001b[0m\u001b[0;34m)\u001b[0m\u001b[0;34m\u001b[0m\u001b[0;34m\u001b[0m\u001b[0m\n\u001b[1;32m   2161\u001b[0m \u001b[0;34m\u001b[0m\u001b[0m\n",
      "\u001b[0;32m<__array_function__ internals>\u001b[0m in \u001b[0;36misclose\u001b[0;34m(*args, **kwargs)\u001b[0m\n",
      "\u001b[0;32m/opt/conda/lib/python3.7/site-packages/numpy/core/numeric.py\u001b[0m in \u001b[0;36misclose\u001b[0;34m(a, b, rtol, atol, equal_nan)\u001b[0m\n\u001b[1;32m   2258\u001b[0m     \u001b[0myfin\u001b[0m \u001b[0;34m=\u001b[0m \u001b[0misfinite\u001b[0m\u001b[0;34m(\u001b[0m\u001b[0my\u001b[0m\u001b[0;34m)\u001b[0m\u001b[0;34m\u001b[0m\u001b[0;34m\u001b[0m\u001b[0m\n\u001b[1;32m   2259\u001b[0m     \u001b[0;32mif\u001b[0m \u001b[0mall\u001b[0m\u001b[0;34m(\u001b[0m\u001b[0mxfin\u001b[0m\u001b[0;34m)\u001b[0m \u001b[0;32mand\u001b[0m \u001b[0mall\u001b[0m\u001b[0;34m(\u001b[0m\u001b[0myfin\u001b[0m\u001b[0;34m)\u001b[0m\u001b[0;34m:\u001b[0m\u001b[0;34m\u001b[0m\u001b[0;34m\u001b[0m\u001b[0m\n\u001b[0;32m-> 2260\u001b[0;31m         \u001b[0;32mreturn\u001b[0m \u001b[0mwithin_tol\u001b[0m\u001b[0;34m(\u001b[0m\u001b[0mx\u001b[0m\u001b[0;34m,\u001b[0m \u001b[0my\u001b[0m\u001b[0;34m,\u001b[0m \u001b[0matol\u001b[0m\u001b[0;34m,\u001b[0m \u001b[0mrtol\u001b[0m\u001b[0;34m)\u001b[0m\u001b[0;34m\u001b[0m\u001b[0;34m\u001b[0m\u001b[0m\n\u001b[0m\u001b[1;32m   2261\u001b[0m     \u001b[0;32melse\u001b[0m\u001b[0;34m:\u001b[0m\u001b[0;34m\u001b[0m\u001b[0;34m\u001b[0m\u001b[0m\n\u001b[1;32m   2262\u001b[0m         \u001b[0mfinite\u001b[0m \u001b[0;34m=\u001b[0m \u001b[0mxfin\u001b[0m \u001b[0;34m&\u001b[0m \u001b[0myfin\u001b[0m\u001b[0;34m\u001b[0m\u001b[0;34m\u001b[0m\u001b[0m\n",
      "\u001b[0;32m/opt/conda/lib/python3.7/site-packages/numpy/core/numeric.py\u001b[0m in \u001b[0;36mwithin_tol\u001b[0;34m(x, y, atol, rtol)\u001b[0m\n\u001b[1;32m   2244\u001b[0m     \u001b[0;32mdef\u001b[0m \u001b[0mwithin_tol\u001b[0m\u001b[0;34m(\u001b[0m\u001b[0mx\u001b[0m\u001b[0;34m,\u001b[0m \u001b[0my\u001b[0m\u001b[0;34m,\u001b[0m \u001b[0matol\u001b[0m\u001b[0;34m,\u001b[0m \u001b[0mrtol\u001b[0m\u001b[0;34m)\u001b[0m\u001b[0;34m:\u001b[0m\u001b[0;34m\u001b[0m\u001b[0;34m\u001b[0m\u001b[0m\n\u001b[1;32m   2245\u001b[0m         \u001b[0;32mwith\u001b[0m \u001b[0merrstate\u001b[0m\u001b[0;34m(\u001b[0m\u001b[0minvalid\u001b[0m\u001b[0;34m=\u001b[0m\u001b[0;34m'ignore'\u001b[0m\u001b[0;34m)\u001b[0m\u001b[0;34m:\u001b[0m\u001b[0;34m\u001b[0m\u001b[0;34m\u001b[0m\u001b[0m\n\u001b[0;32m-> 2246\u001b[0;31m             \u001b[0;32mreturn\u001b[0m \u001b[0mless_equal\u001b[0m\u001b[0;34m(\u001b[0m\u001b[0mabs\u001b[0m\u001b[0;34m(\u001b[0m\u001b[0mx\u001b[0m\u001b[0;34m-\u001b[0m\u001b[0my\u001b[0m\u001b[0;34m)\u001b[0m\u001b[0;34m,\u001b[0m \u001b[0matol\u001b[0m \u001b[0;34m+\u001b[0m \u001b[0mrtol\u001b[0m \u001b[0;34m*\u001b[0m \u001b[0mabs\u001b[0m\u001b[0;34m(\u001b[0m\u001b[0my\u001b[0m\u001b[0;34m)\u001b[0m\u001b[0;34m)\u001b[0m\u001b[0;34m\u001b[0m\u001b[0;34m\u001b[0m\u001b[0m\n\u001b[0m\u001b[1;32m   2247\u001b[0m \u001b[0;34m\u001b[0m\u001b[0m\n\u001b[1;32m   2248\u001b[0m     \u001b[0mx\u001b[0m \u001b[0;34m=\u001b[0m \u001b[0masanyarray\u001b[0m\u001b[0;34m(\u001b[0m\u001b[0ma\u001b[0m\u001b[0;34m)\u001b[0m\u001b[0;34m\u001b[0m\u001b[0;34m\u001b[0m\u001b[0m\n",
      "\u001b[0;31mValueError\u001b[0m: operands could not be broadcast together with shapes (0,) (5835,) "
     ]
    }
   ],
   "source": [
    "#example keck spectum HD190406 at ./specmatch-emp-mod/samples/rj130.2075.fits\n",
    "\n",
    "pathname = input('Enter path: ')\n",
    "obs_type = input('Enter 0 for Keck files, 1 for APF files : ')\n",
    "in_lib = input('Is the spectrum in the library? (0 -> no, 1 -> yes): ')\n",
    "if int(obs_type) == 0:\n",
    "    spect = get_keck_spectrum(pathname)\n",
    "elif int(obs_type) == 1:\n",
    "    spect = get_apf_spectrum(pathname)\n",
    "else:\n",
    "    print('Please enter 0 or 1.')\n",
    "        \n",
    "# below here, use any methods of Specmatch-emp\n",
    "lib = specmatchemp.library.read_hdf()\n",
    "\n",
    "# remove star from library if running on a spectrum in the library\n",
    "if int(in_lib) == 1:\n",
    "    lib_name = input('Enter star name as listed in Specmatch library: ')\n",
    "    idx = lib.get_index(lib_name)\n",
    "    star = lib.pop(idx)\n",
    "    \n",
    "sm = SpecMatch(spect, lib)\n",
    "\n",
    "# Perform shift\n",
    "sm.shift()\n",
    "\n",
    "# Perform match\n",
    "sm.match()\n",
    "\n",
    "# Perform lincomb\n",
    "sm.lincomb()\n",
    "  "
   ]
  },
  {
   "cell_type": "code",
   "execution_count": null,
   "metadata": {},
   "outputs": [],
   "source": [
    "int(obs_type"
   ]
  },
  {
   "cell_type": "code",
   "execution_count": null,
   "metadata": {},
   "outputs": [],
   "source": []
  }
 ],
 "metadata": {
  "kernelspec": {
   "display_name": "Python 3",
   "language": "python",
   "name": "python3"
  },
  "language_info": {
   "codemirror_mode": {
    "name": "ipython",
    "version": 3
   },
   "file_extension": ".py",
   "mimetype": "text/x-python",
   "name": "python",
   "nbconvert_exporter": "python",
   "pygments_lexer": "ipython3",
   "version": "3.7.6"
  }
 },
 "nbformat": 4,
 "nbformat_minor": 4
}
