{
 "cells": [
  {
   "cell_type": "code",
   "execution_count": null,
   "metadata": {},
   "outputs": [],
   "source": [
    "# calc_SNR.ipynb\n",
    "# Script tp get the SNR for an APF spectrum (or directory of spectra of single star)\n",
    "# Last modified 8/12/20 by Anna Zuckerman \n",
    "\n",
    "from os import listdir\n",
    "from os.path import isfile, join\n",
    "import astropy.io.fits \n",
    "import numpy as np\n",
    "import pandas as pd\n",
    "import os\n",
    "\n",
    "def get_SNR(path_name, file, apf_name_conv):\n",
    "    # deal with case where path_name is a directory containing multiple spectra of the same star\n",
    "    try:\n",
    "        filenames = [f for f in listdir(path_name) if isfile(join(path_name, f))]\n",
    "        mult_spect = True\n",
    "    except NotADirectoryError: # path to one file\n",
    "        mult_spect = False\n",
    "    if not(mult_spect):\n",
    "        filename = file.split('.')[0] + '.' + file.split('.')[1]\n",
    "        hdul = astropy.io.fits.open(path_name) \n",
    "        data = hdul[0].data\n",
    "        order_data = data[45,:]\n",
    "        HIP_name = (apf_name_conv[apf_name_conv['FILENAME'] == filename])['HIP_NAME'].tolist()[0]\n",
    "        SNR = np.sqrt(np.median(order_data))\n",
    "    elif mult_spect:\n",
    "        order_data = np.zeros([4608,1])\n",
    "        for spect_file in filenames:\n",
    "            hdul = astropy.io.fits.open(path_name + '/' + spect_file) \n",
    "            order_data = np.add(order_data,(hdul[0].data)[45])\n",
    "        SNR = np.sqrt(np.median(order_data))\n",
    "        HIP_name = file.split('_')[0]\n",
    "    return SNR, HIP_name\n",
    "\n",
    "apf_name_conv = pd.read_csv('apf_name_conversion_updated.csv')\n",
    "filepath = './APF_spectra/apf_spectra' #input('Enter path to spectra files: ')   \n",
    "filelist = sorted(os.listdir(filepath))\n",
    "filelist.remove('.ipynb_checkpoints')\n",
    "filelist.remove('HIP5643_spectra') # errors on this and not due to naming (GJ54.1)\n",
    "all_SNR = []\n",
    "filenames = []\n",
    "HIP_names = []\n",
    "for file in filelist: # sorted makes it go alphabetically\n",
    "    print('Calculating SNR for ' + file)\n",
    "    SNR, HIP_name = get_SNR(str(filepath+'/'+file), file, apf_name_conv)\n",
    "    all_SNR = all_SNR + [SNR]\n",
    "    HIP_names = HIP_names + [HIP_name]\n",
    "SNR_results = pd.DataFrame(list(zip(HIP_names, all_SNR)), columns = ['HIP_NAME', 'SNR']) \n",
    "SNR_results.to_csv('SNR_results.csv')"
   ]
  },
  {
   "cell_type": "code",
   "execution_count": null,
   "metadata": {},
   "outputs": [],
   "source": []
  }
 ],
 "metadata": {
  "kernelspec": {
   "display_name": "Python 3",
   "language": "python",
   "name": "python3"
  },
  "language_info": {
   "codemirror_mode": {
    "name": "ipython",
    "version": 3
   },
   "file_extension": ".py",
   "mimetype": "text/x-python",
   "name": "python",
   "nbconvert_exporter": "python",
   "pygments_lexer": "ipython3",
   "version": "3.7.6"
  }
 },
 "nbformat": 4,
 "nbformat_minor": 4
}
