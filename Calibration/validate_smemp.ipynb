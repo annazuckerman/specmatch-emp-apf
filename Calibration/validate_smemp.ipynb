{
 "cells": [
  {
   "cell_type": "code",
   "execution_count": 187,
   "metadata": {},
   "outputs": [],
   "source": [
    "import numpy as np\n",
    "import pandas as pd\n",
    "import matplotlib.pyplot as plt\n",
    "from astroquery.simbad import Simbad"
   ]
  },
  {
   "cell_type": "code",
   "execution_count": 237,
   "metadata": {},
   "outputs": [],
   "source": [
    "def get_HIPname(name): # CHANGE THIS: INSTEAD OF SEARCHING IN SIMBAD USE APF_NAME_CONVERSION (at least for apf)\n",
    "    if name.startswith('HIP'):\n",
    "            HIP_name = name\n",
    "    else:      \n",
    "        try:\n",
    "            result_table = Simbad.query_objectids(name)\n",
    "            alt_names = result_table.to_pandas()\n",
    "            alt_names = alt_names.iloc[:,0].str.decode('utf-8') #gets rid of weird formatting\n",
    "            HIP_name = alt_names[alt_names.str.contains(\"HIP\")]\n",
    "            if len(HIP_name) == 0:\n",
    "                HIP_name = 'None'\n",
    "                print(name + ' has no HIP name in SIMBAD') #this should never occur since only using stars with HIP names for finding overlap between apf and Yee\n",
    "            elif len(HIP_name) == 1:\n",
    "                HIP_name = str(HIP_name.iloc[0]) # makes it a string instead of dataframe with one cell  \n",
    "            else:\n",
    "                print('more than one HIP name found for ' + name)\n",
    "        except AttributeError:\n",
    "            HIP_name = 'None'\n",
    "            print(name + ': SIMBAD search error (likely \\'No known catalog could be found\\' or \\'this identifier has an incorrect format for catalog\\'') # should not happen\n",
    "    return HIP_name\n"
   ]
  },
  {
   "cell_type": "code",
   "execution_count": 284,
   "metadata": {},
   "outputs": [
    {
     "name": "stderr",
     "output_type": "stream",
     "text": [
      "/opt/conda/lib/python3.7/site-packages/astroquery-0.4.1.dev0-py3.7.egg/astroquery/simbad/core.py:138: UserWarning: Warning: The script line number 2 raised an error (recorded in the `errors` attribute of the result table): Identifier not found in the database : HD 124257A\n",
      "  (error.line, error.msg))\n"
     ]
    },
    {
     "name": "stdout",
     "output_type": "stream",
     "text": [
      "HD 124257A  : SIMBAD search error (likely 'No known catalog could be found' or 'this identifier has an incorrect format for catalog'\n",
      "HD 3684      has no HIP name in SIMBAD\n",
      "KOI-1925     has no HIP name in SIMBAD\n",
      "KOI-1612     has no HIP name in SIMBAD\n",
      "KIC 10018963 has no HIP name in SIMBAD\n",
      "KIC 10355856 has no HIP name in SIMBAD\n",
      "KIC 10516096 has no HIP name in SIMBAD\n",
      "KIC 10644253 has no HIP name in SIMBAD\n",
      "KIC 10709834 has no HIP name in SIMBAD\n",
      "KIC 11026764 has no HIP name in SIMBAD\n",
      "KIC 11137075 has no HIP name in SIMBAD\n",
      "KIC 11244118 has no HIP name in SIMBAD\n",
      "KIC 11414712 has no HIP name in SIMBAD\n",
      "KIC 11717120 has no HIP name in SIMBAD\n",
      "KIC 12009504 has no HIP name in SIMBAD\n",
      "KIC 1435467  has no HIP name in SIMBAD\n",
      "KIC 3427720  has no HIP name in SIMBAD\n",
      "KIC 3656476  has no HIP name in SIMBAD\n",
      "KIC 5021689  has no HIP name in SIMBAD\n",
      "KIC 5184732  has no HIP name in SIMBAD\n",
      "KIC 5596656  has no HIP name in SIMBAD\n",
      "KIC 5773345  has no HIP name in SIMBAD\n",
      "KIC 5955122  has no HIP name in SIMBAD\n",
      "KIC 6116048  has no HIP name in SIMBAD\n",
      "KIC 6442183  has no HIP name in SIMBAD\n",
      "KIC 6603624  has no HIP name in SIMBAD\n",
      "KIC 6933899  has no HIP name in SIMBAD\n",
      "KIC 7206837  has no HIP name in SIMBAD\n",
      "KIC 7680114  has no HIP name in SIMBAD\n",
      "KIC 7799349  has no HIP name in SIMBAD\n",
      "KIC 7871531  has no HIP name in SIMBAD\n",
      "KIC 7970740  has no HIP name in SIMBAD\n",
      "KIC 7976303  has no HIP name in SIMBAD\n",
      "KIC 8179536  has no HIP name in SIMBAD\n",
      "KIC 8394589  has no HIP name in SIMBAD\n",
      "KIC 8524425  has no HIP name in SIMBAD\n",
      "KIC 8561221  has no HIP name in SIMBAD\n",
      "KIC 8694723  has no HIP name in SIMBAD\n",
      "KIC 8702606  has no HIP name in SIMBAD\n",
      "KIC 8938364  has no HIP name in SIMBAD\n",
      "KIC 9098294  has no HIP name in SIMBAD\n",
      "HD 1326B     has no HIP name in SIMBAD\n",
      "GL 105B      has no HIP name in SIMBAD\n",
      "GL 250B      has no HIP name in SIMBAD\n",
      "GL 83.1      has no HIP name in SIMBAD\n",
      "GL 896A      has no HIP name in SIMBAD\n",
      "GL 702A      has no HIP name in SIMBAD\n",
      "GL 702B      has no HIP name in SIMBAD\n"
     ]
    }
   ],
   "source": [
    "# read in files\n",
    "apf_data = pd.read_csv('specmatch_results_new_deblaze.csv') # newst is specmatch_results_new_deblaze,csv!! \n",
    "                                                            # (last run before fixing debalaze is specmatch_results_new.csv)\n",
    "yee_data = pd.read_csv('yee_library_full.csv')\n",
    "\n",
    "\n",
    "# process names in file so be serachable by Simbad (move this logic to inside get_HIPname loop to speed up!)\n",
    "for row in range(len(apf_data)):\n",
    "    name = apf_data.iloc[row,0]\n",
    "    if name[0].isdigit():\n",
    "        apf_data.iloc[row,0] = 'HD' + name\n",
    "    elif name.startswith('K0'):\n",
    "        apf_data.iloc[row,0] = 'KOI-' + name[1:]\n",
    "    elif name.startswith('EPIC-'):\n",
    "        apf_data.iloc[row,0] = 'EPIC' + name[5:]\n",
    "\n",
    "\n",
    "# sort by HIP name of stars for easy comparison\n",
    "apf_HIP = apf_data\n",
    "for row in range(len(apf_data)):\n",
    "    apf_HIP.iloc[row,0] = get_HIPname(apf_data.iloc[row,0]).replace(' ','')\n",
    "apf_HIP.rename(columns = {'apf_name':'HIP_name'}, inplace = True)\n",
    "apf_sorted = apf_HIP.sort_values(by=['HIP_name'])\n",
    "\n",
    "yee_HIP = yee_data\n",
    "drop_rows = []\n",
    "for row in range(len(yee_data)):\n",
    "    yee_HIP.iloc[row,0] = get_HIPname(yee_data.iloc[row,0]).replace(' ','')  \n",
    "    if not(apf_sorted[\"HIP_name\"].str.contains(yee_HIP.iloc[row,0]).any()):\n",
    "        drop_rows = drop_rows + [row]\n",
    "yee_HIP = yee_HIP.drop(drop_rows)\n",
    "yee_HIP.rename(columns = {'Name':'HIP_name'}, inplace = True)\n",
    "yee_sorted = yee_HIP.sort_values(by=['HIP_name'])\n",
    "\n",
    "# THIS IS NOT A LONG-TERM SOLUTION! SEE NOTES from 7/5 FOR WHY.\n",
    "#apf_sorted_unique = list(dict.fromkeys(apf_sorted['HIP_name']))\n",
    "#apf_sorted_unique = apf_sorted.drop_duplicates(subset = 'HIP_name')"
   ]
  },
  {
   "cell_type": "code",
   "execution_count": 291,
   "metadata": {},
   "outputs": [
    {
     "name": "stdout",
     "output_type": "stream",
     "text": [
      " MAKE SURE THEY ARE SORTED BY NAME CORRECTLY SO NAMES MATCH UP! \n"
     ]
    },
    {
     "data": {
      "image/png": "[encoded data removed]",
      "text/plain": [
       "<Figure size 432x432 with 3 Axes>"
      ]
     },
     "metadata": {
      "needs_background": "light"
     },
     "output_type": "display_data"
    },
    {
     "data": {
      "image/png": "[encoded data removed]",
      "text/plain": [
       "<Figure size 432x432 with 3 Axes>"
      ]
     },
     "metadata": {
      "needs_background": "light"
     },
     "output_type": "display_data"
    }
   ],
   "source": [
    "# plot certain properties to compare\n",
    "print(' MAKE SURE THEY ARE SORTED BY NAME CORRECTLY SO NAMES MATCH UP! ')\n",
    "\n",
    "SNR_results = pd.read_csv('SNR_results.csv')\n",
    "SNR_results_sorted = SNR_results.sort_values(by=['HIP_NAME'])\n",
    "apf_SNR = SNR_results_sorted['SNR']\n",
    " \n",
    "apf_Teff = apf_sorted.iloc[:,1].to_numpy() # put all of these back to all rows! Just getting rid of 38 bc lowest SNR to see.\n",
    "yee_Teff = yee_sorted.iloc[:,1].to_numpy()\n",
    "apf_R = apf_sorted.iloc[:,3].to_numpy()\n",
    "yee_R = yee_sorted.iloc[:,3].to_numpy()\n",
    "apf_feh = apf_sorted.iloc[:,7].to_numpy()\n",
    "yee_feh = yee_sorted.iloc[:,7].to_numpy()\n",
    "\n",
    "# getting rid of 38 bc lowest SNR \n",
    "apf_Teff = np.append(apf_Teff[0:38],apf_Teff[39:])\n",
    "yee_Teff = np.append(yee_Teff[0:38],yee_Teff[39:])\n",
    "apf_R = np.append(apf_R[0:38],apf_R[39:])\n",
    "yee_R = np.append(yee_R[0:38],yee_R[39:])\n",
    "apf_feh = np.append(apf_feh[0:38],apf_feh[39:])\n",
    "yee_feh = np.append(yee_feh[0:38],yee_feh[39:])\n",
    "apf_SNR = np.append(apf_SNR[0:38],apf_SNR[39:])\n",
    "\n",
    "fig, axs = plt.subplots(3, 1, figsize = (6,6)) \n",
    "axs[0].plot(yee_Teff,yee_Teff-apf_Teff,'.') #Is this right to use Yee as the x-axis, 'correct' T value?\n",
    "axs[0].set_xlabel('Effective Temperature [K]')\n",
    "axs[0].set_ylabel('$\\Delta T_eff$ [K]')\n",
    "axs[1].plot(yee_R, (yee_R-apf_R)/yee_R,'.') # why normalize to R?\n",
    "axs[1].set_xlabel('Radius [$R_0$]')\n",
    "axs[1].set_ylabel('$\\Delta R/ R$ [$R_0$]')\n",
    "axs[2].plot(yee_feh, yee_feh-apf_feh,'.')\n",
    "axs[2].set_xlabel('[Fe/H] [dex]')\n",
    "axs[2].set_ylabel('$\\Delta$[Fe/H] [dex]')\n",
    "fig.suptitle('APF Specmatch-emp derived properties vs properties reported by Yee et al.')\n",
    "#fig.tight_layout(pad=1.0)\n",
    "fig.tight_layout(rect=[0, 0.03, 1, 0.95])\n",
    "plt.savefig('APF_Yee_comparison.png')\n",
    "\n",
    "fig, axs = plt.subplots(3, 1, figsize = (6,6)) \n",
    "axs[0].plot(apf_SNR,yee_Teff-apf_Teff,'.') #Is this right to use Yee as the x-axis, 'correct' T value?\n",
    "axs[0].set_xlabel('APF SNR')\n",
    "axs[0].set_ylabel('$\\Delta T_eff$ [K]')\n",
    "axs[1].plot(apf_SNR, (yee_R-apf_R)/yee_R,'.') # why normalize to R?\n",
    "axs[1].set_xlabel('APF SNR')\n",
    "axs[1].set_ylabel('$\\Delta R/ R$ [$R_0$]')\n",
    "axs[2].plot(apf_SNR, yee_feh-apf_feh,'.')\n",
    "axs[2].set_xlabel('APF SNR')\n",
    "axs[2].set_ylabel('$\\Delta$[Fe/H] [dex]')\n",
    "fig.suptitle('Difference APF to catalog values vs SNR of APF data')\n",
    "#fig.tight_layout(pad=1.0)\n",
    "fig.tight_layout(rect=[0, 0.03, 1, 0.95])\n",
    "plt.savefig('APF_Yee_comparison_SNR.png')"
   ]
  },
  {
   "cell_type": "code",
   "execution_count": 286,
   "metadata": {},
   "outputs": [],
   "source": [
    "#TESTING BELOW HERE\n",
    "\n"
   ]
  },
  {
   "cell_type": "code",
   "execution_count": 279,
   "metadata": {},
   "outputs": [
    {
     "data": {
      "text/plain": [
       "101"
      ]
     },
     "execution_count": 279,
     "metadata": {},
     "output_type": "execute_result"
    }
   ],
   "source": [
    "# for checking which are the worst points\n",
    "idxs = []\n",
    "for idx in range(len(yee_R)):\n",
    "    if abs(apf_R[idx] - yee_R[idx])/yee_R[idx] > 1.0:\n",
    "        idxs = idxs + [idx]\n",
    "\n",
    "diff = (apf_R - yee_R)/yee_R\n",
    "idxs\n",
    "\n",
    "len(diff)"
   ]
  },
  {
   "cell_type": "code",
   "execution_count": null,
   "metadata": {},
   "outputs": [],
   "source": [
    "SNR_results.sort_values('SNR')"
   ]
  },
  {
   "cell_type": "code",
   "execution_count": null,
   "metadata": {},
   "outputs": [],
   "source": [
    "# before fixing deblaze, the star with biggest issue in R was HIP13642, at index 21\n",
    "apf_sorted.iloc[38]"
   ]
  },
  {
   "cell_type": "code",
   "execution_count": null,
   "metadata": {},
   "outputs": [],
   "source": [
    "yee_sorted.iloc[38]"
   ]
  },
  {
   "cell_type": "code",
   "execution_count": null,
   "metadata": {},
   "outputs": [],
   "source": [
    "# calculate RMS for old results (FIRST RUN ON THE RESULTS YOU WANT!!)\n",
    "#diff = (apf_R - yee_R)/yee_R\n",
    "#rms_R_old = np.sqrt(np.mean(diff**2)) \n",
    "\n",
    "#diff =  (apf_Teff - yee_Teff)\n",
    "#rms_T_old = np.sqrt(np.mean(diff**2))\n",
    "\n",
    "#diff =  (apf_feh - yee_feh)\n",
    "#rms_feh_old = np.sqrt(np.mean(diff**2)) "
   ]
  },
  {
   "cell_type": "code",
   "execution_count": 295,
   "metadata": {},
   "outputs": [
    {
     "name": "stdout",
     "output_type": "stream",
     "text": [
      "rms_R = 0.11985839822685923\n",
      "rms_Teff = 77.90180312309847\n",
      "rms_feh = 0.06777838888613391\n"
     ]
    }
   ],
   "source": [
    " # calculate RMS for new results (FIRST RUN ON THE RESULTS YOU WANT!! -- last run was without the outlier point, fyi)\n",
    "diff = (apf_R - yee_R)/yee_R\n",
    "rms_R_new = np.sqrt(np.mean(diff**2)) \n",
    "print('rms_R = ' + str(rms_R_new))\n",
    "\n",
    "diff =  (apf_Teff - yee_Teff)\n",
    "rms_T_new = np.sqrt(np.mean(diff**2))\n",
    "print('rms_Teff = ' + str(rms_T_new))\n",
    "\n",
    "diff =  (apf_feh - yee_feh)\n",
    "rms_feh_new = np.sqrt(np.mean(diff**2)) \n",
    "print('rms_feh = ' + str(rms_feh_new))"
   ]
  },
  {
   "cell_type": "code",
   "execution_count": 299,
   "metadata": {},
   "outputs": [
    {
     "name": "stdout",
     "output_type": "stream",
     "text": [
      "rms_R for T<4500 = 0.08128862841568917\n",
      "rms_R for T>4500 = 0.13020023219683532\n",
      "rms_Teff for T<4500 = 53.04004223150654\n",
      "rms_Teff for T>4500 = 84.58037132298088\n",
      "rms_feh for T<4500= 0.07543447487720718\n",
      "rms_feh for T>4500= 0.06502635363194423\n"
     ]
    }
   ],
   "source": [
    "# To get at division in deltas at T ~ 4500K\n",
    "apf_Teff_1 = apf_Teff[yee_Teff < 4500]\n",
    "yee_Teff_1 = yee_Teff[yee_Teff < 4500]\n",
    "apf_Teff_2 = apf_Teff[yee_Teff >= 4500]\n",
    "yee_Teff_2 = yee_Teff[yee_Teff >= 4500]\n",
    "\n",
    "apf_R_1 = apf_R[yee_Teff < 4500]\n",
    "yee_R_1 = yee_R[yee_Teff < 4500]\n",
    "apf_R_2 = apf_R[yee_Teff >= 4500]\n",
    "yee_R_2 = yee_R[yee_Teff >= 4500]\n",
    "\n",
    "apf_feh_1 = apf_feh[yee_Teff < 4500]\n",
    "yee_feh_1 = yee_feh[yee_Teff < 4500]\n",
    "apf_feh_2 = apf_feh[yee_Teff >= 4500]\n",
    "yee_feh_2 = yee_feh[yee_Teff >= 4500]\n",
    "\n",
    "# calculate RMS for first part\n",
    "diff = (apf_R_1 - yee_R_1)/yee_R_1\n",
    "rms_R_new = np.sqrt(np.mean(diff**2)) \n",
    "print('rms_R for T<4500 = ' + str(rms_R_new))\n",
    "\n",
    "# calculate RMS for second part\n",
    "diff = (apf_R_2 - yee_R_2)/yee_R_2\n",
    "rms_R_new = np.sqrt(np.mean(diff**2)) \n",
    "print('rms_R for T>4500 = ' + str(rms_R_new))\n",
    "\n",
    "diff =  (apf_Teff_1 - yee_Teff_1)\n",
    "rms_T_new = np.sqrt(np.mean(diff**2))\n",
    "print('rms_Teff for T<4500 = ' + str(rms_T_new))\n",
    "\n",
    "diff =  (apf_Teff_2 - yee_Teff_2)\n",
    "rms_T_new = np.sqrt(np.mean(diff**2))\n",
    "print('rms_Teff for T>4500 = ' + str(rms_T_new))\n",
    "\n",
    "diff =  (apf_feh_1 - yee_feh_1)\n",
    "rms_feh_new = np.sqrt(np.mean(diff**2)) \n",
    "print('rms_feh for T<4500= ' + str(rms_feh_new))\n",
    "\n",
    "diff =  (apf_feh_2 - yee_feh_2)\n",
    "rms_feh_new = np.sqrt(np.mean(diff**2)) \n",
    "print('rms_feh for T>4500= ' + str(rms_feh_new))\n"
   ]
  },
  {
   "cell_type": "code",
   "execution_count": 301,
   "metadata": {},
   "outputs": [
    {
     "name": "stdout",
     "output_type": "stream",
     "text": [
      "rms_R for R<1.0 = 0.08009884895408878\n",
      "rms_R for R>1.0 = 0.1637100470516803\n",
      "rms_Teff for R<1.0 = 58.52989904832015\n",
      "rms_Teff for R>1.0 = 101.00753956931213\n",
      "rms_feh for R<1.0 = 0.06360276311143909\n",
      "rms_feh for R>1.0 = 0.07383748613661192\n"
     ]
    }
   ],
   "source": [
    "# To get at division in deltas at R ~ 1.0 Ro\n",
    "apf_Teff_1 = apf_Teff[yee_R < 1.0]\n",
    "yee_Teff_1 = yee_Teff[yee_R < 1.0]\n",
    "apf_Teff_2 = apf_Teff[yee_R > 1.0]\n",
    "yee_Teff_2 = yee_Teff[yee_R > 1.0]\n",
    "\n",
    "apf_R_1 = apf_R[yee_R < 1.0]\n",
    "yee_R_1 = yee_R[yee_R < 1.0]\n",
    "apf_R_2 = apf_R[yee_R > 1.0]\n",
    "yee_R_2 = yee_R[yee_R > 1.0]\n",
    "\n",
    "apf_feh_1 = apf_feh[yee_R < 1.0]\n",
    "yee_feh_1 = yee_feh[yee_R < 1.0]\n",
    "apf_feh_2 = apf_feh[yee_R > 1.0]\n",
    "yee_feh_2 = yee_feh[yee_R > 1.0]\n",
    "\n",
    "# calculate RMS for first part\n",
    "diff = (apf_R_1 - yee_R_1)/yee_R_1\n",
    "rms_R_new = np.sqrt(np.mean(diff**2)) \n",
    "print('rms_R for R<1.0 = ' + str(rms_R_new))\n",
    "\n",
    "# calculate RMS for second part\n",
    "diff = (apf_R_2 - yee_R_2)/yee_R_2\n",
    "rms_R_new = np.sqrt(np.mean(diff**2)) \n",
    "print('rms_R for R>1.0 = ' + str(rms_R_new))\n",
    "\n",
    "diff =  (apf_Teff_1 - yee_Teff_1)\n",
    "rms_T_new = np.sqrt(np.mean(diff**2))\n",
    "print('rms_Teff for R<1.0 = ' + str(rms_T_new))\n",
    "\n",
    "diff =  (apf_Teff_2 - yee_Teff_2)\n",
    "rms_T_new = np.sqrt(np.mean(diff**2))\n",
    "print('rms_Teff for R>1.0 = ' + str(rms_T_new))\n",
    "\n",
    "diff =  (apf_feh_1 - yee_feh_1)\n",
    "rms_feh_new = np.sqrt(np.mean(diff**2)) \n",
    "print('rms_feh for R<1.0 = ' + str(rms_feh_new))\n",
    "\n",
    "diff =  (apf_feh_2 - yee_feh_2)\n",
    "rms_feh_new = np.sqrt(np.mean(diff**2)) \n",
    "print('rms_feh for R>1.0 = ' + str(rms_feh_new))\n"
   ]
  },
  {
   "cell_type": "code",
   "execution_count": 310,
   "metadata": {},
   "outputs": [],
   "source": [
    "#TESTING\n",
    "#apf_name_conversion = pd.read_csv('apf_name_conversion_updated.csv')\n",
    "#names = apf_sorted['HIP_name']\n",
    "#names.to_csv('overlap_names.csv')\n"
   ]
  },
  {
   "cell_type": "code",
   "execution_count": null,
   "metadata": {},
   "outputs": [],
   "source": []
  }
 ],
 "metadata": {
  "kernelspec": {
   "display_name": "Python 3",
   "language": "python",
   "name": "python3"
  },
  "language_info": {
   "codemirror_mode": {
    "name": "ipython",
    "version": 3
   },
   "file_extension": ".py",
   "mimetype": "text/x-python",
   "name": "python",
   "nbconvert_exporter": "python",
   "pygments_lexer": "ipython3",
   "version": "3.7.6"
  }
 },
 "nbformat": 4,
 "nbformat_minor": 4
}
