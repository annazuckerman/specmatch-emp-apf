{
 "cells": [
  {
   "cell_type": "code",
   "execution_count": 94,
   "metadata": {},
   "outputs": [],
   "source": [
    "import numpy as np\n",
    "import pandas as pd\n",
    "import matplotlib.pyplot as plt\n",
    "from astroquery.simbad import Simbad"
   ]
  },
  {
   "cell_type": "code",
   "execution_count": 95,
   "metadata": {},
   "outputs": [],
   "source": [
    "def get_HIPname(name): # CHANGE THIS: INSTEAD OF SEARCHING IN SIMBAD USE APF_NAME_CONVERSION (at least for apf)\n",
    "    if name.startswith('HIP'):\n",
    "            HIP_name = name\n",
    "    else:      \n",
    "        try:\n",
    "            result_table = Simbad.query_objectids(name)\n",
    "            alt_names = result_table.to_pandas()\n",
    "            alt_names = alt_names.iloc[:,0].str.decode('utf-8') #gets rid of weird formatting\n",
    "            HIP_name = alt_names[alt_names.str.contains(\"HIP\")]\n",
    "            if len(HIP_name) == 0:\n",
    "                HIP_name = 'None'\n",
    "                print(name + ' has no HIP name in SIMBAD') #this should never occur since only using stars with HIP names for finding overlap between apf and Yee\n",
    "            elif len(HIP_name) == 1:\n",
    "                HIP_name = str(HIP_name.iloc[0]) # makes it a string instead of dataframe with one cell  \n",
    "            else:\n",
    "                print('more than one HIP name found for ' + name)\n",
    "        except AttributeError:\n",
    "            HIP_name = 'None'\n",
    "            print(name + ': SIMBAD search error (likely \\'No known catalog could be found\\' or \\'this identifier has an incorrect format for catalog\\'') # should not happen\n",
    "    return HIP_name\n"
   ]
  },
  {
   "cell_type": "code",
   "execution_count": 176,
   "metadata": {},
   "outputs": [
    {
     "name": "stderr",
     "output_type": "stream",
     "text": [
      "/opt/conda/lib/python3.7/site-packages/astroquery-0.4.1.dev0-py3.7.egg/astroquery/simbad/core.py:138: UserWarning: Warning: The script line number 2 raised an error (recorded in the `errors` attribute of the result table): Identifier not found in the database : HD 124257A\n",
      "  (error.line, error.msg))\n"
     ]
    },
    {
     "name": "stdout",
     "output_type": "stream",
     "text": [
      "HD 124257A  : SIMBAD search error (likely 'No known catalog could be found' or 'this identifier has an incorrect format for catalog'\n",
      "HD 3684      has no HIP name in SIMBAD\n",
      "KOI-1925     has no HIP name in SIMBAD\n",
      "KOI-1612     has no HIP name in SIMBAD\n",
      "KIC 10018963 has no HIP name in SIMBAD\n",
      "KIC 10355856 has no HIP name in SIMBAD\n",
      "KIC 10516096 has no HIP name in SIMBAD\n",
      "KIC 10644253 has no HIP name in SIMBAD\n",
      "KIC 10709834 has no HIP name in SIMBAD\n",
      "KIC 11026764 has no HIP name in SIMBAD\n",
      "KIC 11137075 has no HIP name in SIMBAD\n",
      "KIC 11244118 has no HIP name in SIMBAD\n",
      "KIC 11414712 has no HIP name in SIMBAD\n",
      "KIC 11717120 has no HIP name in SIMBAD\n",
      "KIC 12009504 has no HIP name in SIMBAD\n",
      "KIC 1435467  has no HIP name in SIMBAD\n",
      "KIC 3427720  has no HIP name in SIMBAD\n",
      "KIC 3656476  has no HIP name in SIMBAD\n",
      "KIC 5021689  has no HIP name in SIMBAD\n",
      "KIC 5184732  has no HIP name in SIMBAD\n",
      "KIC 5596656  has no HIP name in SIMBAD\n",
      "KIC 5773345  has no HIP name in SIMBAD\n",
      "KIC 5955122  has no HIP name in SIMBAD\n",
      "KIC 6116048  has no HIP name in SIMBAD\n",
      "KIC 6442183  has no HIP name in SIMBAD\n",
      "KIC 6603624  has no HIP name in SIMBAD\n",
      "KIC 6933899  has no HIP name in SIMBAD\n",
      "KIC 7206837  has no HIP name in SIMBAD\n",
      "KIC 7680114  has no HIP name in SIMBAD\n",
      "KIC 7799349  has no HIP name in SIMBAD\n",
      "KIC 7871531  has no HIP name in SIMBAD\n",
      "KIC 7970740  has no HIP name in SIMBAD\n",
      "KIC 7976303  has no HIP name in SIMBAD\n",
      "KIC 8179536  has no HIP name in SIMBAD\n",
      "KIC 8394589  has no HIP name in SIMBAD\n",
      "KIC 8524425  has no HIP name in SIMBAD\n",
      "KIC 8561221  has no HIP name in SIMBAD\n",
      "KIC 8694723  has no HIP name in SIMBAD\n",
      "KIC 8702606  has no HIP name in SIMBAD\n",
      "KIC 8938364  has no HIP name in SIMBAD\n",
      "KIC 9098294  has no HIP name in SIMBAD\n",
      "HD 1326B     has no HIP name in SIMBAD\n",
      "GL 105B      has no HIP name in SIMBAD\n",
      "GL 250B      has no HIP name in SIMBAD\n",
      "GL 83.1      has no HIP name in SIMBAD\n",
      "GL 896A      has no HIP name in SIMBAD\n",
      "GL 702A      has no HIP name in SIMBAD\n",
      "GL 702B      has no HIP name in SIMBAD\n"
     ]
    }
   ],
   "source": [
    "# read in files\n",
    "apf_data = pd.read_csv('specmatch_results.csv')\n",
    "yee_data = pd.read_csv('yee_library_full.csv')\n",
    "\n",
    "\n",
    "# process names in file so be serachable by Simbad (move this logic to inside get_HIPname loop to speed up!)\n",
    "for row in range(len(apf_data)):\n",
    "    name = apf_data.iloc[row,0]\n",
    "    if name[0].isdigit():\n",
    "        apf_data.iloc[row,0] = 'HD' + name\n",
    "    elif name.startswith('K0'):\n",
    "        apf_data.iloc[row,0] = 'KOI-' + name[1:]\n",
    "    elif name.startswith('EPIC-'):\n",
    "        apf_data.iloc[row,0] = 'EPIC' + name[5:]\n",
    "\n",
    "\n",
    "# sort by HIP name of stars for easy comparison\n",
    "apf_HIP = apf_data\n",
    "for row in range(len(apf_data)):\n",
    "    apf_HIP.iloc[row,0] = get_HIPname(apf_data.iloc[row,0]).replace(' ','')\n",
    "apf_HIP.rename(columns = {'apf_name':'HIP_name'}, inplace = True)\n",
    "apf_sorted = apf_HIP.sort_values(by=['HIP_name'])\n",
    "\n",
    "yee_HIP = yee_data\n",
    "drop_rows = []\n",
    "for row in range(len(yee_data)):\n",
    "    yee_HIP.iloc[row,0] = get_HIPname(yee_data.iloc[row,0]).replace(' ','')  \n",
    "    if not(apf_sorted[\"HIP_name\"].str.contains(yee_HIP.iloc[row,0]).any()):\n",
    "        drop_rows = drop_rows + [row]\n",
    "yee_HIP = yee_HIP.drop(drop_rows)\n",
    "yee_HIP.rename(columns = {'Name':'HIP_name'}, inplace = True)\n",
    "yee_sorted = yee_HIP.sort_values(by=['HIP_name'])\n",
    "\n",
    "# THIS IS NOT A LONG-TERM SOLUTION! SEE NOTES from 7/5 FOR WHY.\n",
    "#apf_sorted_unique = list(dict.fromkeys(apf_sorted['HIP_name']))\n",
    "apf_sorted_unique = apf_sorted.drop_duplicates(subset = 'HIP_name')"
   ]
  },
  {
   "cell_type": "code",
   "execution_count": null,
   "metadata": {},
   "outputs": [],
   "source": []
  },
  {
   "cell_type": "code",
   "execution_count": 179,
   "metadata": {},
   "outputs": [
    {
     "name": "stdout",
     "output_type": "stream",
     "text": [
      " MAKE SURE THEY ARE SORTED BY NAME CORRECTLY SO NAMES MATCH UP! \n"
     ]
    },
    {
     "data": {
      "image/png": "[encoded data removed]",
      "text/plain": [
       "<Figure size 432x432 with 3 Axes>"
      ]
     },
     "metadata": {
      "needs_background": "light"
     },
     "output_type": "display_data"
    }
   ],
   "source": [
    "# plot certain properties to compare\n",
    "print(' MAKE SURE THEY ARE SORTED BY NAME CORRECTLY SO NAMES MATCH UP! ')\n",
    "\n",
    "apf_Teff = apf_sorted_unique.iloc[:,1].to_numpy()\n",
    "yee_Teff = yee_sorted.iloc[:,1].to_numpy()\n",
    "apf_R = apf_sorted_unique.iloc[:,3].to_numpy()\n",
    "yee_R = yee_sorted.iloc[:,3].to_numpy()\n",
    "apf_feh = apf_sorted_unique.iloc[:,7].to_numpy()\n",
    "yee_feh = yee_sorted.iloc[:,7].to_numpy()\n",
    "fig, axs = plt.subplots(3, 1, figsize = (6,6)) \n",
    "axs[0].plot(yee_Teff,yee_Teff-apf_Teff,'.') #Is this right to use Yee as the x-axis, 'correct' T value?\n",
    "axs[0].set_xlabel('Effective Temperature [K]')\n",
    "axs[0].set_ylabel('$\\Delta T_eff$ [K]')\n",
    "axs[1].plot(yee_R, (yee_R-apf_R)/yee_R,'.') # why normalize to R?\n",
    "axs[1].set_xlabel('Radius [$R_0$]')\n",
    "axs[1].set_ylabel('$\\Delta R/ R$ [$R_0$]')\n",
    "axs[2].plot(yee_feh, yee_feh/apf_feh,'.')\n",
    "axs[2].set_xlabel('[Fe/H] [dex]')\n",
    "axs[2].set_ylabel('$\\Delta$[Fe/H] [dex]')\n",
    "fig.suptitle('APF Specmatch-emp derived properties vs properties reported by Yee et al.')\n",
    "#fig.tight_layout(pad=1.0)\n",
    "fig.tight_layout(rect=[0, 0.03, 1, 0.95])\n",
    "plt.savefig('APF_Yee_comparison.png')"
   ]
  },
  {
   "cell_type": "code",
   "execution_count": 178,
   "metadata": {},
   "outputs": [
    {
     "data": {
      "text/plain": [
       "<Figure size 432x288 with 0 Axes>"
      ]
     },
     "metadata": {},
     "output_type": "display_data"
    }
   ],
   "source": [
    "plt.savefig('APF_Yee_comparison.png')\n"
   ]
  },
  {
   "cell_type": "code",
   "execution_count": null,
   "metadata": {},
   "outputs": [],
   "source": []
  }
 ],
 "metadata": {
  "kernelspec": {
   "display_name": "Python 3",
   "language": "python",
   "name": "python3"
  },
  "language_info": {
   "codemirror_mode": {
    "name": "ipython",
    "version": 3
   },
   "file_extension": ".py",
   "mimetype": "text/x-python",
   "name": "python",
   "nbconvert_exporter": "python",
   "pygments_lexer": "ipython3",
   "version": "3.7.6"
  }
 },
 "nbformat": 4,
 "nbformat_minor": 4
}
